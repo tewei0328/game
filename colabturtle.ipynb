{
  "nbformat": 4,
  "nbformat_minor": 0,
  "metadata": {
    "colab": {
      "name": "colabturtle.ipynb",
      "provenance": [],
      "authorship_tag": "ABX9TyP0sxJrKg4EOsTgBhMSWp/m",
      "include_colab_link": true
    },
    "kernelspec": {
      "name": "python3",
      "display_name": "Python 3"
    }
  },
  "cells": [
    {
      "cell_type": "markdown",
      "metadata": {
        "id": "view-in-github",
        "colab_type": "text"
      },
      "source": [
        "<a href=\"https://colab.research.google.com/github/tewei0328/game/blob/master/colabturtle.ipynb\" target=\"_parent\"><img src=\"https://colab.research.google.com/assets/colab-badge.svg\" alt=\"Open In Colab\"/></a>"
      ]
    },
    {
      "cell_type": "markdown",
      "metadata": {
        "id": "NEY_bAhmMAY7"
      },
      "source": [
        "# Turtle for Google Colab notebooks\n",
        "https://github.com/tolgaatam/ColabTurtle"
      ]
    },
    {
      "cell_type": "markdown",
      "metadata": {
        "id": "UU4VLnbjMWmM"
      },
      "source": [
        "# How do you use ColabTurtle?\n",
        "https://stackoverflow.com/questions/59083608/how-do-you-use-colabturtle"
      ]
    },
    {
      "cell_type": "code",
      "metadata": {
        "id": "c0uPzCvZLlWv",
        "outputId": "107735c4-fdb8-4b8d-bdb7-aa7a3b98f40a",
        "colab": {
          "base_uri": "https://localhost:8080/",
          "height": 195
        }
      },
      "source": [
        "!pip install colabturtle"
      ],
      "execution_count": null,
      "outputs": [
        {
          "output_type": "stream",
          "text": [
            "Collecting colabturtle\n",
            "  Downloading https://files.pythonhosted.org/packages/49/01/6da7091c2c6c917cce99c000b89acb6aa27b66ef6eafc0c0ccf59b98694f/ColabTurtle-2.0.0.tar.gz\n",
            "Building wheels for collected packages: colabturtle\n",
            "  Building wheel for colabturtle (setup.py) ... \u001b[?25l\u001b[?25hdone\n",
            "  Created wheel for colabturtle: filename=ColabTurtle-2.0.0-cp36-none-any.whl size=4032 sha256=6e80239c5541aacf4c78499bb1e2fa128c70825b7c51baa25b987cb43df13f23\n",
            "  Stored in directory: /root/.cache/pip/wheels/a8/29/ec/ad346f0042ae467cc74f4378916348faf975b07890651dcae7\n",
            "Successfully built colabturtle\n",
            "Installing collected packages: colabturtle\n",
            "Successfully installed colabturtle-2.0.0\n"
          ],
          "name": "stdout"
        }
      ]
    },
    {
      "cell_type": "code",
      "metadata": {
        "id": "GQig05s9Lpbf"
      },
      "source": [
        "from ColabTurtle.Turtle import *"
      ],
      "execution_count": null,
      "outputs": []
    },
    {
      "cell_type": "code",
      "metadata": {
        "id": "P6QkDIi_L9J5",
        "outputId": "1b202ff4-601a-40c5-8e1a-5ad634749ad1",
        "colab": {
          "base_uri": "https://localhost:8080/",
          "height": 520
        }
      },
      "source": [
        "initializeTurtle()"
      ],
      "execution_count": null,
      "outputs": [
        {
          "output_type": "display_data",
          "data": {
            "text/html": [
              "\n",
              "      <svg width=\"800\" height=\"500\">\n",
              "        <rect width=\"100%\" height=\"100%\" fill=\"black\"/>\n",
              "        \n",
              "        \n",
              "      <g visibility=visible transform=\"rotate(180,400,250) translate(400, 250)\">\n",
              "        <circle stroke=\"white\" stroke-width=\"3\" fill=\"transparent\" r=\"12\" cx=\"0\" cy=\"0\"/>\n",
              "        <polygon points=\"0,19 3,16 -3,16\" style=\"fill:white;stroke:white;stroke-width:2\"/>\n",
              "      </g>\n",
              "    \n",
              "      </svg>\n",
              "    "
            ],
            "text/plain": [
              "<IPython.core.display.HTML object>"
            ]
          },
          "metadata": {
            "tags": []
          }
        }
      ]
    },
    {
      "cell_type": "code",
      "metadata": {
        "id": "tfAuHuruMgY6",
        "outputId": "3fa8fdfe-3e26-4a1f-8c2c-b9a71216c363",
        "colab": {
          "base_uri": "https://localhost:8080/",
          "height": 520
        }
      },
      "source": [
        "forward(100)\n",
        "right(90)\n",
        "forward(100)\n",
        "right(90)\n",
        "forward(100)"
      ],
      "execution_count": null,
      "outputs": [
        {
          "output_type": "display_data",
          "data": {
            "text/html": [
              "\n",
              "      <svg width=\"800\" height=\"500\">\n",
              "        <rect width=\"100%\" height=\"100%\" fill=\"black\"/>\n",
              "        <line x1=\"400\" y1=\"250\" x2=\"400.0\" y2=\"150.0\" stroke-linecap=\"round\" style=\"stroke:white;stroke-width:4\"/><line x1=\"400.0\" y1=\"150.0\" x2=\"500.0\" y2=\"150.0\" stroke-linecap=\"round\" style=\"stroke:white;stroke-width:4\"/><line x1=\"500.0\" y1=\"150.0\" x2=\"500.0\" y2=\"250.0\" stroke-linecap=\"round\" style=\"stroke:white;stroke-width:4\"/>\n",
              "        \n",
              "      <g visibility=visible transform=\"rotate(0,500.0,250.0) translate(500.0, 250.0)\">\n",
              "        <circle stroke=\"white\" stroke-width=\"3\" fill=\"transparent\" r=\"12\" cx=\"0\" cy=\"0\"/>\n",
              "        <polygon points=\"0,19 3,16 -3,16\" style=\"fill:white;stroke:white;stroke-width:2\"/>\n",
              "      </g>\n",
              "    \n",
              "      </svg>\n",
              "    "
            ],
            "text/plain": [
              "<IPython.core.display.HTML object>"
            ]
          },
          "metadata": {
            "tags": []
          }
        }
      ]
    }
  ]
}